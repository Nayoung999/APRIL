{
  "nbformat": 4,
  "nbformat_minor": 0,
  "metadata": {
    "colab": {
      "name": "Stack.ipynb",
      "provenance": [],
      "authorship_tag": "ABX9TyN9wUhJ1oeytx9NGi//XrYc",
      "include_colab_link": true
    },
    "kernelspec": {
      "name": "python3",
      "display_name": "Python 3"
    },
    "language_info": {
      "name": "python"
    }
  },
  "cells": [
    {
      "cell_type": "markdown",
      "metadata": {
        "id": "view-in-github",
        "colab_type": "text"
      },
      "source": [
        "<a href=\"https://colab.research.google.com/github/Nayoung999/APRIL/blob/main/Stack.ipynb\" target=\"_parent\"><img src=\"https://colab.research.google.com/assets/colab-badge.svg\" alt=\"Open In Colab\"/></a>"
      ]
    },
    {
      "cell_type": "markdown",
      "source": [
        "# 스택의 기본\n",
        "\n",
        "## 스택의 개념\n",
        "- 스택Stack의 자료구조 : 한쪽 끝이 막힌 형태\n",
        "- First in, Last out.\n",
        "\n",
        "## 스택의 원리 \n",
        "- 입구와 출구가 하나인 막다른 골목길이라고 생각을 하자!\n",
        "- Push : 스택에 데이터를 삽입하는 작동\n",
        "- Pop : 스택에 테이터를 추출하는 작동\n",
        "- Top : 스택에서 제일 최근에 들어간 데이터!\n",
        "\n",
        "\n",
        "# 스택의 간단 구현"
      ],
      "metadata": {
        "id": "PROh7-LyRUxE"
      }
    },
    {
      "cell_type": "code",
      "execution_count": 1,
      "metadata": {
        "colab": {
          "base_uri": "https://localhost:8080/"
        },
        "id": "vC3sG95MRNn_",
        "outputId": "868a5e0c-b3c1-44d7-aefc-cc916c1fb1e4"
      },
      "outputs": [
        {
          "output_type": "stream",
          "name": "stdout",
          "text": [
            "-----stack statue-----\n",
            "None\n",
            "None\n",
            "honeytea\n",
            "greentea\n",
            "coffee\n"
          ]
        }
      ],
      "source": [
        "stack = [None,None, None, None, None]\n",
        "top = -1  # it means 'stack is empty'\n",
        "\n",
        "top += 1\n",
        "stack[top] = \"coffee\"\n",
        "top += 1\n",
        "stack[top] = \"greentea\"\n",
        "top += 1\n",
        "stack[top] = \"honeytea\"\n",
        "\n",
        "print(\"-----stack statue-----\")\n",
        "for i in range(len(stack)-1, -1, -1) : \n",
        "    print(stack[i])"
      ]
    },
    {
      "cell_type": "code",
      "source": [
        "# 스택에서 데이터 3개 추출\n",
        "stack = ['coffee', 'greentea', 'honeytea', None, None]\n",
        "top = 2\n",
        "\n",
        "print(\"---stack statue---\")\n",
        "for i in range(len(stack)-1, -1, -1) :      # range(start, stop, step).   # range 함수의 결과는 반복가능하기 때문에 for문을 사용해 출력할 수 있다. \n",
        "    print(stack[i])\n",
        "\n",
        "print(\"------------\")\n",
        "data = stack[top]\n",
        "stack[top] = None\n",
        "top -= 1\n",
        "print(\"pop-->\", data)\n",
        "\n",
        "data = stack[top]\n",
        "stack[top] = None\n",
        "top -= 1\n",
        "print(\"pop-->\", data)\n",
        "\n",
        "data = stack[top]\n",
        "stack[top] = None\n",
        "top -= 1\n",
        "print(\"pop-->\", data)\n",
        "print(\"-----------\")\n",
        "\n",
        "print(\"-----stack statue-----\")\n",
        "for i in range(len(stack)-1, -1, -1) : \n",
        "    print(stack[i])\n",
        "\n"
      ],
      "metadata": {
        "colab": {
          "base_uri": "https://localhost:8080/"
        },
        "id": "IZmLhhVeRTrM",
        "outputId": "d4ecb146-d0a9-4a5f-e452-99dc3771ac02"
      },
      "execution_count": 3,
      "outputs": [
        {
          "output_type": "stream",
          "name": "stdout",
          "text": [
            "---stack statue---\n",
            "None\n",
            "None\n",
            "honeytea\n",
            "greentea\n",
            "coffee\n",
            "------------\n",
            "pop--> honeytea\n",
            "pop--> greentea\n",
            "pop--> coffee\n",
            "-----------\n",
            "-----stack statue-----\n",
            "None\n",
            "None\n",
            "None\n",
            "None\n",
            "None\n"
          ]
        }
      ]
    },
    {
      "cell_type": "markdown",
      "source": [
        "# 스택의 일반 구현\n",
        "1. 스택 초기화 \n",
        "2. 데이터 삽입 과정\n",
        "3. 데이터 추출 과정\n",
        "4. 데이터 확인\n",
        "5. 스택 완성"
      ],
      "metadata": {
        "id": "KNTe3auCU7_G"
      }
    },
    {
      "cell_type": "code",
      "source": [
        "# 1. stack reset\n",
        "\n",
        "\n",
        "# 5개짜리 빈 스택을 생성하는 방법\n",
        "stack = [None, None, None, None, None]\n",
        "\n",
        "SIZE = 5 # stack size\n",
        "stack = [None for _ in range(SIZE)]  # 더 큰 스택에서는 for를 이용해서 stack에 None을 채워준다.\n",
        "top = -1"
      ],
      "metadata": {
        "id": "w4euiDZlUTmD"
      },
      "execution_count": 4,
      "outputs": []
    },
    {
      "cell_type": "code",
      "source": [
        "# 2. 데이터 삽입 과정\n",
        "# 삽입할 때는 스택이 이미 꽉 찼는지 확인해야 한다. 더는 삽입되지 않도록 조치할 필요가 있다. \n",
        "\n",
        "# 스택이 꽉 찼는지 확인하는 함수\n",
        "\n",
        "def isStackFull() : \n",
        "    global SIZE, stack, top\n",
        "    if(top>=SIZE-1) :  #top이 '스택의 크기-1'보다 큰지 확인한다. \n",
        "        return True\n",
        "    else : \n",
        "        return False\n",
        "SIZE = 5\n",
        "stack = [\"coffee\", \"greentea\", \"honeytea\", \"cola\", \"fanta\"]\n",
        "top = 4\n",
        "\n",
        "print(\"스택이 꽉 찼는지 여부 ==>\", isStackFull())  # 함수를 호출해서 스택이 꽉 찼는지 확인한다. \n",
        "\n",
        "# top = 4 이므로 SIZE=5인 stack은 꽉 찼다."
      ],
      "metadata": {
        "colab": {
          "base_uri": "https://localhost:8080/"
        },
        "id": "01TpGyqKV1DK",
        "outputId": "b42ddec2-901c-40d4-da7d-720afcca97cb"
      },
      "execution_count": 6,
      "outputs": [
        {
          "output_type": "stream",
          "name": "stdout",
          "text": [
            "스택이 꽉 찼는지 여부 ==> True\n"
          ]
        }
      ]
    },
    {
      "cell_type": "code",
      "source": [
        "# 스택에 데이터를 삽입하는 함수\n",
        "\n",
        "def push(data) : \n",
        "    global SIZE, stack, top\n",
        "    if (isStackFull()) : \n",
        "        print(\"stack is full.\")\n",
        "        return\n",
        "    top +=1\n",
        "    stack[top] = data\n",
        "\n",
        "SIZE = 5\n",
        "stack = [\"coffee\", \"greentea\",\"honeytea\", \"coke\", None]\n",
        "top = 3\n",
        "\n",
        "print(stack)\n",
        "push(\"fanta\")\n",
        "print(stack)\n",
        "push(\"gatorade\")"
      ],
      "metadata": {
        "colab": {
          "base_uri": "https://localhost:8080/"
        },
        "id": "a6sSA-YBWrzE",
        "outputId": "bda1332e-d641-4778-aeb9-a401e40cd04a"
      },
      "execution_count": 9,
      "outputs": [
        {
          "output_type": "stream",
          "name": "stdout",
          "text": [
            "['coffee', 'greentea', 'honeytea', 'coke', None]\n",
            "['coffee', 'greentea', 'honeytea', 'coke', 'fanta']\n",
            "stack is full.\n"
          ]
        }
      ]
    },
    {
      "cell_type": "code",
      "source": [
        "# 스택이 비었는지 확인하는 함수\n",
        "\n",
        "def isStackEmpty() : \n",
        "    global SIZE, stack, top\n",
        "    if(top == -1) : \n",
        "        return True\n",
        "    else:\n",
        "        return False\n",
        "\n",
        "SIZE = 5\n",
        "stack = [None for _ in range(SIZE)]\n",
        "top = -1\n",
        "\n",
        "print(\"스택이 비었는지 여부==>\", isStackEmpty)"
      ],
      "metadata": {
        "colab": {
          "base_uri": "https://localhost:8080/"
        },
        "id": "NUJyBms3XNdV",
        "outputId": "aa8e3305-33aa-4d02-996a-9b13a3b75c4d"
      },
      "execution_count": 11,
      "outputs": [
        {
          "output_type": "stream",
          "name": "stdout",
          "text": [
            "스택이 비었는지 여부==> <function isStackEmpty at 0x7fda8f99d050>\n"
          ]
        }
      ]
    },
    {
      "cell_type": "code",
      "source": [
        "# 스택에서 데이터를 추출하는 함수 \n",
        "\n",
        "def pop() : \n",
        "    global SIZE, stack, top\n",
        "    if (isSatckEmpty()) : \n",
        "        print('stack is empty')\n",
        "        return None\n",
        "    data = stack[top]\n",
        "    stack[top] = None\n",
        "    top -= 1\n",
        "    return data\n",
        "\n"
      ],
      "metadata": {
        "id": "KbkMDkDVYb3X"
      },
      "execution_count": 12,
      "outputs": []
    },
    {
      "cell_type": "code",
      "source": [
        "# 데이터 확인 \n",
        "\n",
        "def peek() : \n",
        "    global SIZE, stack, top\n",
        "    if (isStackEmpty()) : \n",
        "        print(\"stack is empty\")\n",
        "        return None\n",
        "    return stack[top]"
      ],
      "metadata": {
        "id": "ZlrdzKIfY4OY"
      },
      "execution_count": 13,
      "outputs": []
    },
    {
      "cell_type": "markdown",
      "source": [
        "스택의 응용\n",
        "\n",
        "1. 웹서핑에서 이전 페이지 돌아가기 \n",
        "2. 괄호의 매핑 검사\n",
        "\n"
      ],
      "metadata": {
        "id": "ldIUX8NcZOh2"
      }
    },
    {
      "cell_type": "markdown",
      "source": [
        "# 회고\n",
        "\n",
        "- global : 전역변수를 선언하는 것이다. \n",
        "\n",
        "\n",
        "-----\n",
        "1. 종이컵을 스택에 넣는 동작과 거리가 먼 것은?\n",
        "    1. ~~종이컵은 가장 먼저 들어간 것이 가장 먼저 나온다 .~~\n",
        "    \n",
        "    First In, Last Out!\n",
        "    \n",
        "2. 스택의 삽입과 추출에서 사용되는 용어 세 가지\n",
        "    1. top\n",
        "    2. push\n",
        "    3. pop\n",
        "3. 스택의 삽입과 추출에서 사용되는 용어 세 가지\n",
        "    1. top\n",
        "    2. push\n",
        "    3. pop\n",
        "4. 스택에서 삽입/추출하는 코드를 적자. \n",
        "\n",
        "```python\n",
        "# 함수를 정의해서 \n",
        "\n",
        "stack = [None, None, None, None, None]\n",
        "top = -1\n",
        "\n",
        "def push(data) : \n",
        "\t\tglobal SIZE, stack, top\n",
        "\t\tif (isStackFull()) :\n",
        "\t\t\t\tprint(\"stack is full.\")\n",
        "\t\t\t\treturn\n",
        "\t\ttop += 1\n",
        "\t\t\n",
        "\t\tstack[top] = \"값\"\n",
        "\n",
        "data = stack[top]\n",
        "stack[top] = None\n",
        "\n",
        "```\n",
        "\n",
        "```python\n",
        "# 함수를 정의하지 않고\n",
        "\n",
        "stack = [None, None, None, None, None]\n",
        "top = -1\n",
        "\n",
        "top += 1\n",
        "stack[top] = \"값\"\n",
        "\n",
        "data = stack[top]\n",
        "stack[top] = None\n",
        "\n",
        "```\n",
        "\n",
        "1. 스택이 꽉 찼는지 확인하는 함수 (②)\n",
        "    \n",
        "    ```python\n",
        "    def isStackFull():\n",
        "    \t\tglobal SIZE, stack, top\n",
        "    \t\tif(top ==SIZE-1) : # 앞에서는 top >= SIZE-1으로 나왔는데, 여기서는 같은 것만.\n",
        "    \t\t\t\treturn True\n",
        "    \t\telse : \n",
        "    \t\t\t\treturn False\n",
        "    ```\n",
        "    \n",
        "\n",
        "1. 스택이 비었는지 체크하는 함수  (②)\n",
        "\n",
        "```python\n",
        "def isStackEmpty() : \n",
        "\t\tglobal SIZE, stack, top\n",
        "\t\tif(top == -1) : \n",
        "\t\t\t\treturn True\n",
        "\t\telse :\n",
        "\t\t\t\treturn False\n",
        "```\n",
        "\n",
        "1. 스택에서 다음에 나올 데이터를 확인만 하는 함수다. \n",
        "\n",
        "```python\n",
        "def peek() : \n",
        "\t\tglobal SIZE, stack, top \n",
        "\t\tif (isStackEmpth()):\n",
        "\t\t\t\tprint(\"Stack Is Empty!\")\n",
        "\t\t\t\treturn None\n",
        "\t\treturn stack[top]\n",
        "\t\t\n",
        "```\n",
        "\n",
        "---\n",
        "\n",
        "# global  : 전역변수를 선언\n",
        "\n",
        "- 변수명 앞에 global을 붙이는 것이다."
      ],
      "metadata": {
        "id": "pbG9gTERgyis"
      }
    },
    {
      "cell_type": "markdown",
      "source": [
        "2022.04. 08 아이펠 풀잎 \n",
        "\n",
        "- with\n",
        "  - 정은퍼실님, 영태님, 현빈님, 우민님, 다현님\n",
        "\n",
        "모각코 좋아요.\n",
        "다른 사람이랑 같이 모여서 각자 공부하는게 효과가 좋다. :)"
      ],
      "metadata": {
        "id": "umeaErIyaCIe"
      }
    }
  ]
}